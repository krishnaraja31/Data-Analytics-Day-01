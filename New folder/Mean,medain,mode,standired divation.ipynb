{
  "nbformat": 4,
  "nbformat_minor": 0,
  "metadata": {
    "colab": {
      "provenance": [],
      "toc_visible": true
    },
    "kernelspec": {
      "name": "python3",
      "display_name": "Python 3"
    },
    "language_info": {
      "name": "python"
    }
  },
  "cells": [
    {
      "cell_type": "code",
      "source": [
        "import pandas as pd\n",
        "\n",
        "# Path to the CSV file\n",
        "file_path = \"rk.csv\"\n",
        "\n",
        "# Read the CSV file\n",
        "df = pd.read_csv(file_path)\n",
        "\n",
        "# Display the first few rows of the data\n",
        "print(\"First few rows of the data:\")\n",
        "print(df.head())\n",
        "\n",
        "\n",
        "\n",
        "\n"
      ],
      "metadata": {
        "colab": {
          "base_uri": "https://localhost:8080/"
        },
        "id": "wl8ckGY974ak",
        "outputId": "97bc5b8e-4dd5-4c93-b43c-826069edd234"
      },
      "execution_count": 14,
      "outputs": [
        {
          "output_type": "stream",
          "name": "stdout",
          "text": [
            "First few rows of the data:\n",
            "    Make       Model Vehicle Class  Engine Size(L)  Cylinders Transmission  \\\n",
            "0  ACURA         ILX       COMPACT             2.0          4          AS5   \n",
            "1  ACURA         ILX       COMPACT             2.4          4           M6   \n",
            "2  ACURA  ILX HYBRID       COMPACT             1.5          4          AV7   \n",
            "3  ACURA     MDX 4WD   SUV - SMALL             3.5          6          AS6   \n",
            "4  ACURA     RDX AWD   SUV - SMALL             3.5          6          AS6   \n",
            "\n",
            "  Fuel Type  Fuel Consumption City (L/100 km)  \\\n",
            "0         Z                               9.9   \n",
            "1         Z                              11.2   \n",
            "2         Z                               6.0   \n",
            "3         Z                              12.7   \n",
            "4         Z                              12.1   \n",
            "\n",
            "   Fuel Consumption Hwy (L/100 km)  Fuel Consumption Comb (L/100 km)  \\\n",
            "0                              6.7                               8.5   \n",
            "1                              7.7                               9.6   \n",
            "2                              5.8                               5.9   \n",
            "3                              9.1                              11.1   \n",
            "4                              8.7                              10.6   \n",
            "\n",
            "   Fuel Consumption Comb (mpg)  CO2 Emissions(g/km)  \n",
            "0                           33                  196  \n",
            "1                           29                  221  \n",
            "2                           48                  136  \n",
            "3                           25                  255  \n",
            "4                           27                  244  \n"
          ]
        }
      ]
    },
    {
      "cell_type": "code",
      "source": [],
      "metadata": {
        "id": "Dn759eNDE_yd"
      },
      "execution_count": null,
      "outputs": []
    },
    {
      "cell_type": "code",
      "source": [
        "import pandas as pd\n",
        "\n",
        "# Path to the CSV file\n",
        "file_path = \"rk.csv\"\n",
        "\n",
        "# Read the CSV file\n",
        "df = pd.read_csv(file_path)\n",
        "\n",
        "# Display the first few rows of the data\n",
        "#print(\"First few rows of the data:\")\n",
        "#rint(df.head())\n",
        "\n",
        "# Calculate and display the mean of numeric columns\n",
        "print(\"\\nMean of numeric columns:\")\n",
        "mean_values = df.mean(numeric_only=True)\n",
        "print(mean_values)\n"
      ],
      "metadata": {
        "colab": {
          "base_uri": "https://localhost:8080/"
        },
        "id": "XDBvX05L7-MN",
        "outputId": "9cca8974-9019-4d4b-d760-903845637659"
      },
      "execution_count": 17,
      "outputs": [
        {
          "output_type": "stream",
          "name": "stdout",
          "text": [
            "\n",
            "Mean of numeric columns:\n",
            "Engine Size(L)                        3.160068\n",
            "Cylinders                             5.615030\n",
            "Fuel Consumption City (L/100 km)     12.556534\n",
            "Fuel Consumption Hwy (L/100 km)       9.041706\n",
            "Fuel Consumption Comb (L/100 km)     10.975071\n",
            "Fuel Consumption Comb (mpg)          27.481652\n",
            "CO2 Emissions(g/km)                 250.584699\n",
            "dtype: float64\n"
          ]
        }
      ]
    },
    {
      "cell_type": "code",
      "source": [
        "import pandas as pd\n",
        "\n",
        "# Path to the CSV file\n",
        "file_path = \"rk.csv\"\n",
        "\n",
        "# Read the CSV file\n",
        "df = pd.read_csv(file_path)\n",
        "\n",
        "# Display the first few rows of the data\n",
        "\n",
        "\n",
        "# Calculate and display the median of numeric columns\n",
        "print(\"\\nMedian of numeric columns:\")\n",
        "median_values = df.median(numeric_only=True)\n",
        "print(median_values)\n"
      ],
      "metadata": {
        "colab": {
          "base_uri": "https://localhost:8080/"
        },
        "id": "bB5lQ65W9GGH",
        "outputId": "3f957eb2-8bbb-4701-86a1-ffd4ef46db2e"
      },
      "execution_count": 18,
      "outputs": [
        {
          "output_type": "stream",
          "name": "stdout",
          "text": [
            "\n",
            "Median of numeric columns:\n",
            "Engine Size(L)                        3.0\n",
            "Cylinders                             6.0\n",
            "Fuel Consumption City (L/100 km)     12.1\n",
            "Fuel Consumption Hwy (L/100 km)       8.7\n",
            "Fuel Consumption Comb (L/100 km)     10.6\n",
            "Fuel Consumption Comb (mpg)          27.0\n",
            "CO2 Emissions(g/km)                 246.0\n",
            "dtype: float64\n"
          ]
        }
      ]
    },
    {
      "cell_type": "code",
      "source": [
        "import pandas as pd\n",
        "\n",
        "# Path to the CSV file\n",
        "file_path = \"rk.csv\"\n",
        "\n",
        "# Read the CSV file\n",
        "df = pd.read_csv(file_path)\n",
        "\n",
        "\n",
        "\n",
        "# Calculate and display the mode of numeric columns\n",
        "print(\"\\nMode of numeric columns:\")\n",
        "mode_values = df.mode(numeric_only=True)\n",
        "print(mode_values)\n"
      ],
      "metadata": {
        "colab": {
          "base_uri": "https://localhost:8080/"
        },
        "id": "eK-g2urj9yl3",
        "outputId": "37e5e939-a3b5-48b9-8585-b960f381c3e1"
      },
      "execution_count": 19,
      "outputs": [
        {
          "output_type": "stream",
          "name": "stdout",
          "text": [
            "\n",
            "Mode of numeric columns:\n",
            "   Engine Size(L)  Cylinders  Fuel Consumption City (L/100 km)  \\\n",
            "0             2.0          4                              10.8   \n",
            "\n",
            "   Fuel Consumption Hwy (L/100 km)  Fuel Consumption Comb (L/100 km)  \\\n",
            "0                              7.8                               9.4   \n",
            "\n",
            "   Fuel Consumption Comb (mpg)  CO2 Emissions(g/km)  \n",
            "0                           25                  242  \n"
          ]
        }
      ]
    },
    {
      "cell_type": "code",
      "source": [
        "import pandas as pd\n",
        "\n",
        "# Path to the CSV file\n",
        "file_path = \"rk.csv\"\n",
        "\n",
        "# Read the CSV file\n",
        "df = pd.read_csv(file_path)\n",
        "\n",
        "\n",
        "\n",
        "# Calculate and display the standard deviation of numeric columns\n",
        "print(\"\\nStandard deviation of numeric columns:\")\n",
        "std_values = df.std(numeric_only=True)\n",
        "print(std_values)\n"
      ],
      "metadata": {
        "colab": {
          "base_uri": "https://localhost:8080/"
        },
        "id": "ylVHX3Ga9_if",
        "outputId": "a299858e-c133-470c-95db-387977a15091"
      },
      "execution_count": 20,
      "outputs": [
        {
          "output_type": "stream",
          "name": "stdout",
          "text": [
            "\n",
            "Standard deviation of numeric columns:\n",
            "Engine Size(L)                       1.354170\n",
            "Cylinders                            1.828307\n",
            "Fuel Consumption City (L/100 km)     3.500274\n",
            "Fuel Consumption Hwy (L/100 km)      2.224456\n",
            "Fuel Consumption Comb (L/100 km)     2.892506\n",
            "Fuel Consumption Comb (mpg)          7.231879\n",
            "CO2 Emissions(g/km)                 58.512679\n",
            "dtype: float64\n"
          ]
        }
      ]
    }
  ]
}